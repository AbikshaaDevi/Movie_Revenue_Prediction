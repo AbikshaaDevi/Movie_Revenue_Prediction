{
 "cells": [
  {
   "cell_type": "code",
   "execution_count": null,
   "id": "86d9ef93",
   "metadata": {},
   "outputs": [],
   "source": [
    "import pandas as pd\n",
    "import numpy as np \n",
    "from sklearn.model_selection import train_test_split\n",
    "import lightgbm as lgb\n",
    "from sklearn.metrics import mean_absolute_error\n",
    "import pickle"
   ]
  },
  {
   "cell_type": "code",
   "execution_count": 3,
   "id": "0125d7a9",
   "metadata": {},
   "outputs": [],
   "source": [
    "df = pd.read_csv(r'C:\\Users\\USER\\Desktop\\Data_Science\\Predicting_Movie_Box_Office_Success\\train_cleaned.csv')"
   ]
  },
  {
   "cell_type": "code",
   "execution_count": 7,
   "id": "4aef9822",
   "metadata": {},
   "outputs": [],
   "source": [
    "features = ['budget', 'popularity', 'runtime',\n",
    "            'Comedy', 'Drama', 'Family', 'Romance', 'Thriller', 'Action',\n",
    "            'Animation', 'Adventure', 'Horror']\n",
    "\n",
    "target = 'revenue'"
   ]
  },
  {
   "cell_type": "code",
   "execution_count": 8,
   "id": "a4c5df59",
   "metadata": {},
   "outputs": [],
   "source": [
    "# Fill missing numeric values with median (if any)\n",
    "for col in ['budget', 'popularity', 'runtime']:\n",
    "    if df[col].isnull().sum() > 0:\n",
    "        df[col] = df[col].fillna(df[col].median())\n",
    "\n",
    "X = df[features]\n",
    "y = df[target]"
   ]
  },
  {
   "cell_type": "code",
   "execution_count": 9,
   "id": "86c7115f",
   "metadata": {},
   "outputs": [],
   "source": [
    "# Split data into train and validation sets\n",
    "X_train, X_val, y_train, y_val = train_test_split(\n",
    "    X, y, test_size=0.2, random_state=42\n",
    ")"
   ]
  },
  {
   "cell_type": "code",
   "execution_count": 10,
   "id": "11deba75",
   "metadata": {},
   "outputs": [],
   "source": [
    "# Prepare LightGBM datasets\n",
    "train_data = lgb.Dataset(X_train, label=y_train)\n",
    "val_data = lgb.Dataset(X_val, label=y_val)"
   ]
  },
  {
   "cell_type": "code",
   "execution_count": 11,
   "id": "15ff6d23",
   "metadata": {},
   "outputs": [],
   "source": [
    "# Define model parameters\n",
    "params = {\n",
    "    'objective': 'regression',\n",
    "    'metric': 'mae',\n",
    "    'verbosity': -1,\n",
    "    'boosting_type': 'gbdt',\n",
    "    'random_state': 42\n",
    "}"
   ]
  },
  {
   "cell_type": "code",
   "execution_count": 13,
   "id": "e40cab6f",
   "metadata": {},
   "outputs": [
    {
     "name": "stdout",
     "output_type": "stream",
     "text": [
      "Training until validation scores don't improve for 50 rounds\n",
      "Early stopping, best iteration is:\n",
      "[34]\tvalid_0's l1: 3.94668e+07\n"
     ]
    }
   ],
   "source": [
    "# Train model\n",
    "model = lgb.train(\n",
    "    params,\n",
    "    train_data,\n",
    "    valid_sets=[val_data],\n",
    "    num_boost_round=1000,\n",
    "    callbacks=[lgb.early_stopping(stopping_rounds=50)]\n",
    ")\n"
   ]
  },
  {
   "cell_type": "code",
   "execution_count": 14,
   "id": "cf7a28d9",
   "metadata": {},
   "outputs": [],
   "source": [
    "# Predict on validation set using best_iteration\n",
    "y_pred = model.predict(X_val, num_iteration=model.best_iteration)"
   ]
  },
  {
   "cell_type": "code",
   "execution_count": 15,
   "id": "8798edf7",
   "metadata": {},
   "outputs": [
    {
     "name": "stdout",
     "output_type": "stream",
     "text": [
      "Validation MAE: 39466779.58\n"
     ]
    }
   ],
   "source": [
    "# Evaluate MAE\n",
    "mae = mean_absolute_error(y_val, y_pred)\n",
    "print(f\"Validation MAE: {mae:.2f}\")"
   ]
  },
  {
   "cell_type": "code",
   "execution_count": 16,
   "id": "ff354801",
   "metadata": {},
   "outputs": [],
   "source": [
    "# Save model to file\n",
    "with open('model.pkl', 'wb') as f:\n",
    "    pickle.dump(model, f)"
   ]
  },
  {
   "cell_type": "code",
   "execution_count": 17,
   "id": "3691674c",
   "metadata": {},
   "outputs": [],
   "source": [
    "# Save feature list to use later in Flask app\n",
    "with open('features.pkl', 'wb') as f:\n",
    "    pickle.dump(features, f)"
   ]
  }
 ],
 "metadata": {
  "kernelspec": {
   "display_name": "Python 3",
   "language": "python",
   "name": "python3"
  },
  "language_info": {
   "codemirror_mode": {
    "name": "ipython",
    "version": 3
   },
   "file_extension": ".py",
   "mimetype": "text/x-python",
   "name": "python",
   "nbconvert_exporter": "python",
   "pygments_lexer": "ipython3",
   "version": "3.13.2"
  }
 },
 "nbformat": 4,
 "nbformat_minor": 5
}
